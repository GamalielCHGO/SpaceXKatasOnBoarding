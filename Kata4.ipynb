{
 "cells": [
  {
   "cell_type": "markdown",
   "metadata": {},
   "source": [
    "## Ejercicio 1"
   ]
  },
  {
   "cell_type": "code",
   "execution_count": 73,
   "metadata": {},
   "outputs": [
    {
     "name": "stdout",
     "output_type": "stream",
     "text": [
      "['Interesting facts about the Moon', \"The Moon is Earth's only satellite\", 'There are several interesting facts about the Moon and how it affects life here on Earth', 'On average, the Moon moves 4cm away from the Earth every year', 'This yearly drift is not significant enough to cause immediate effects on Earth', 'The highest daylight temperature of the Moon is 127 C.']\n",
      "On average, the Moon moves 4cm away from the Earth every year\n",
      "The highest daylight temperature of the Moon is 127 Celsius.\n"
     ]
    }
   ],
   "source": [
    "text = \"Interesting facts about the Moon. The Moon is Earth's only satellite. There are several interesting facts about the Moon and how it affects life here on Earth. On average, the Moon moves 4cm away from the Earth every year. This yearly drift is not significant enough to cause immediate effects on Earth. The highest daylight temperature of the Moon is 127 C.\"\n",
    "\n",
    "# dividirlo en oraciones\n",
    "textDiv = text.split(\". \")\n",
    "print (textDiv)\n",
    "# definir palabras clave\n",
    "palabrasClave = [\"average\",\"temperature\",\"distance\"]\n",
    "\n",
    "# ciclo para buscar palabras clave\n",
    "for frase in textDiv:\n",
    "    for clave in palabrasClave:\n",
    "        if (clave in frase):\n",
    "            print(frase.replace(\"C\",\"Celsius\"))\n",
    "            break\n",
    "\n"
   ]
  },
  {
   "cell_type": "markdown",
   "metadata": {},
   "source": [
    "## Ejercicio 2"
   ]
  },
  {
   "cell_type": "code",
   "execution_count": 74,
   "metadata": {},
   "outputs": [
    {
     "name": "stdout",
     "output_type": "stream",
     "text": [
      "Interesting Facts About Moon And Earth \n",
      ".................\n",
      "Planet= Earth\n",
      "Gravity = 1.6199999999999999 m/s \n",
      "Interesting Facts About Moon And Earth \n",
      ".................\n",
      "Planet= Earth\n",
      "Gravity = 1.6199999999999999 m/s \n",
      "\n",
      "Interesting facts about Moon and Earth\n",
      ".....................\n",
      "Planet= Earth\n",
      "Gravity = 0.00162 m/s\n",
      "\n",
      "Interesting facts about Ganímedes and Marte \n",
      ".....................\n",
      "Planet= Marte \n",
      "Gravity = 1.4300000000000002 m/s\n"
     ]
    }
   ],
   "source": [
    "# Datos con los que vas a trabajar\n",
    "name = \"Moon\"\n",
    "gravity = 0.00162 # in kms\n",
    "planet = \"Earth\"\n",
    "\n",
    "titulo=f\"Interesting facts about {name} and {planet}\".title()\n",
    "cuerpo=f\"\"\"Planet= {planet}\n",
    "Gravity = {gravity*1000} m/s \"\"\"\n",
    "\n",
    "total= f\"\"\"{titulo} \n",
    ".................\n",
    "{cuerpo}\"\"\"\n",
    "\n",
    "print (total)\n",
    "#actualizando datos de variables\n",
    "planet = 'Marte '\n",
    "gravity  = 0.00143\n",
    "name = 'Ganímedes'\n",
    "#imprimiendo plantilla\n",
    "print (total)\n",
    "\n",
    "#creando nueva plantilla con format\n",
    "plantillaN = \"\"\"\n",
    "Interesting facts about {name} and {planet}\n",
    ".....................\n",
    "Planet= {planet}\n",
    "Gravity = {gravity} m/s\"\"\"\n",
    "#imprimiendo primeros valores\n",
    "name = \"Moon\"\n",
    "gravity = 0.00162 # in Kms\n",
    "planet = \"Earth\"\n",
    "print (plantillaN.format(name=name, planet=planet, gravity=gravity))\n",
    "#imprimiendo segundos valores\n",
    "planet = 'Marte '\n",
    "gravity  = 0.00143 #in Kms\n",
    "name = 'Ganímedes'\n",
    "print(plantillaN.format(name=name, planet=planet, gravity=gravity*1000))\n"
   ]
  }
 ],
 "metadata": {
  "interpreter": {
   "hash": "af50226f0ad69345aebfd6fbc3e3df7347ebf8bf830f92e1ebb36921aae7f78b"
  },
  "kernelspec": {
   "display_name": "Python 3.10.2 64-bit",
   "language": "python",
   "name": "python3"
  },
  "language_info": {
   "codemirror_mode": {
    "name": "ipython",
    "version": 3
   },
   "file_extension": ".py",
   "mimetype": "text/x-python",
   "name": "python",
   "nbconvert_exporter": "python",
   "pygments_lexer": "ipython3",
   "version": "3.10.2"
  },
  "orig_nbformat": 4
 },
 "nbformat": 4,
 "nbformat_minor": 2
}
