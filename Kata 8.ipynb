{
 "cells": [
  {
   "cell_type": "markdown",
   "metadata": {},
   "source": [
    "# Ejercicio 1 : Creación de diccionarios de Python"
   ]
  },
  {
   "cell_type": "code",
   "execution_count": 14,
   "metadata": {},
   "outputs": [
    {
     "name": "stdout",
     "output_type": "stream",
     "text": [
      "El planeta Mars tiene 2 Lunas\n",
      "El planeta Mars tiene 2 Lunas y tiene una circunferencia polar de 6572\n"
     ]
    }
   ],
   "source": [
    "planeta = {\n",
    "    'planet':'Mars',\n",
    "    'moons':2,\n",
    "}\n",
    "\n",
    "print (f\"El planeta {planeta['planet']} tiene {planeta['moons']} Lunas\")\n",
    "\n",
    "planeta[\"polar\"]=\"6572\"\n",
    "planeta[\"equatorial\"]=\"6792\"\n",
    "\n",
    "print (f\"El planeta {planeta['planet']} tiene {planeta['moons']} Lunas y tiene una circunferencia polar de {planeta['polar']}\")\n"
   ]
  },
  {
   "cell_type": "markdown",
   "metadata": {},
   "source": [
    "# Ejercicio 2"
   ]
  },
  {
   "cell_type": "code",
   "execution_count": 15,
   "metadata": {},
   "outputs": [
    {
     "name": "stdout",
     "output_type": "stream",
     "text": [
      "Existen 214 lunas en los planetas\n",
      "Tienen un promedio de 17.833333333333332\n"
     ]
    }
   ],
   "source": [
    "# Planets and moons\n",
    "\n",
    "planet_moons = {\n",
    "    'mercury': 0,\n",
    "    'venus': 0,\n",
    "    'earth': 1,\n",
    "    'mars': 2,\n",
    "    'jupiter': 79,\n",
    "    'saturn': 82,\n",
    "    'uranus': 27,\n",
    "    'neptune': 14,\n",
    "    'pluto': 5,\n",
    "    'haumea': 2,\n",
    "    'makemake': 1,\n",
    "    'eris': 1\n",
    "}\n",
    "\n",
    "# Añade el código para determinar el número de lunas.\n",
    "lunasTotales=0\n",
    "for valor in planet_moons.values():\n",
    "    lunasTotales+=valor\n",
    "\n",
    "print (f\"Existen {lunasTotales} lunas en los planetas\")\n",
    "\n",
    "print (f\"Tienen un promedio de {lunasTotales/len(planet_moons.keys())}\")\n"
   ]
  }
 ],
 "metadata": {
  "interpreter": {
   "hash": "5f2ab836d873eab779380ee3084b4b1df244da822c03bf94fe2c3116055a22e7"
  },
  "kernelspec": {
   "display_name": "Python 3.10.1 64-bit",
   "language": "python",
   "name": "python3"
  },
  "language_info": {
   "codemirror_mode": {
    "name": "ipython",
    "version": 3
   },
   "file_extension": ".py",
   "mimetype": "text/x-python",
   "name": "python",
   "nbconvert_exporter": "python",
   "pygments_lexer": "ipython3",
   "version": "3.10.1"
  },
  "orig_nbformat": 4
 },
 "nbformat": 4,
 "nbformat_minor": 2
}
