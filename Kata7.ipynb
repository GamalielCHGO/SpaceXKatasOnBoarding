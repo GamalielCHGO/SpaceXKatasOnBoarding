{
 "cells": [
  {
   "cell_type": "markdown",
   "metadata": {},
   "source": [
    "# Ejercicio 1"
   ]
  },
  {
   "cell_type": "code",
   "execution_count": 2,
   "metadata": {},
   "outputs": [
    {
     "name": "stdout",
     "output_type": "stream",
     "text": [
      "['Mercurio', 'Venus', 'Tierra', 'Marte', 'Saturno', 'Neptuno']\n"
     ]
    }
   ],
   "source": [
    " # Declara dos variables\n",
    " new_planet = \"\"\n",
    " planets= []\n",
    " while new_planet.lower() != \"done\":\n",
    "    if(new_planet):\n",
    "        planets.append(new_planet)\n",
    "    new_planet= input(\"Ingresa un nuevo o planeta o la palabra done si has terminado\")\n",
    "\n",
    "print (planets)"
   ]
  },
  {
   "cell_type": "markdown",
   "metadata": {},
   "source": [
    "# Ejercicio 2"
   ]
  },
  {
   "cell_type": "code",
   "execution_count": 3,
   "metadata": {},
   "outputs": [
    {
     "name": "stdout",
     "output_type": "stream",
     "text": [
      "Los planetas son:  Mercurio\n",
      "Los planetas son:  Venus\n",
      "Los planetas son:  Tierra\n",
      "Los planetas son:  Marte\n",
      "Los planetas son:  Saturno\n",
      "Los planetas son:  Neptuno\n"
     ]
    }
   ],
   "source": [
    "# Escribe tu ciclo for para iterar en una lista de planetas\n",
    "for planeta in planets:\n",
    "    print (\"Los planetas son: \",planeta)"
   ]
  }
 ],
 "metadata": {
  "interpreter": {
   "hash": "5f2ab836d873eab779380ee3084b4b1df244da822c03bf94fe2c3116055a22e7"
  },
  "kernelspec": {
   "display_name": "Python 3.10.1 64-bit",
   "language": "python",
   "name": "python3"
  },
  "language_info": {
   "codemirror_mode": {
    "name": "ipython",
    "version": 3
   },
   "file_extension": ".py",
   "mimetype": "text/x-python",
   "name": "python",
   "nbconvert_exporter": "python",
   "pygments_lexer": "ipython3",
   "version": "3.10.1"
  },
  "orig_nbformat": 4
 },
 "nbformat": 4,
 "nbformat_minor": 2
}
