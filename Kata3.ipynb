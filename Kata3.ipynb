{
 "cells": [
  {
   "cell_type": "markdown",
   "metadata": {},
   "source": [
    "## Kata 3"
   ]
  },
  {
   "cell_type": "markdown",
   "metadata": {},
   "source": [
    "## Instrucciones\n",
    "Añadir el código necesario para crear una variable que guarde la velocidad del asteroide.\n",
    "\n",
    "Escribe una expresión de prueba para calcular si necesita una advertencia.\n",
    "\n",
    "Agregue las instrucciones que se ejecutarán si la expresión de prueba es true o false."
   ]
  },
  {
   "cell_type": "markdown",
   "metadata": {},
   "source": [
    "## Ejercicio 1"
   ]
  },
  {
   "cell_type": "code",
   "execution_count": 1,
   "metadata": {},
   "outputs": [
    {
     "name": "stdout",
     "output_type": "stream",
     "text": [
      "Todo OK\n"
     ]
    }
   ],
   "source": [
    "vel= 49\n",
    "if vel >= 25:\n",
    "    print(\"Cuidado vamos a morir!!\")\n",
    "else:\n",
    "    print (\"Todo OK\")"
   ]
  },
  {
   "cell_type": "markdown",
   "metadata": {},
   "source": [
    "## Ejercicio 2"
   ]
  },
  {
   "cell_type": "code",
   "execution_count": null,
   "metadata": {},
   "outputs": [],
   "source": [
    "asteroide = 19\n",
    "if asteroide >=20:\n",
    "    print(\"Voltea al cielo puedes ver un asteroide\")\n",
    "elif asteroide<20:\n",
    "    print(\"sigue tu vida\")\n",
    "else:\n",
    "    print(\"el asteroide no existe son los papas\")\n"
   ]
  },
  {
   "cell_type": "markdown",
   "metadata": {},
   "source": [
    "## Ejercicio 3"
   ]
  },
  {
   "cell_type": "code",
   "execution_count": null,
   "metadata": {},
   "outputs": [],
   "source": [
    "velocidadAsteroide = 49\n",
    "tamanoAsteroide = 100\n",
    "if velocidadAsteroide > 20 and tamanoAsteroide<25:\n",
    "    print(\"Mira al cielo encontraras una sorpresa\")\n",
    "elif velocidadAsteroide > 25 and (tamanoAsteroide > 25 and tamanoAsteroide< 1000):\n",
    "    print(\"Cuidado se acerca un asteroide\")\n",
    "elif velocidadAsteroide<25:\n",
    "    print(\"Todo bien por aqui\")\n",
    "else:\n",
    "    print(\"Todo bien por aqui\")\n",
    "\n",
    "\n"
   ]
  }
 ],
 "metadata": {
  "interpreter": {
   "hash": "af50226f0ad69345aebfd6fbc3e3df7347ebf8bf830f92e1ebb36921aae7f78b"
  },
  "kernelspec": {
   "display_name": "Python 3.10.2 64-bit",
   "language": "python",
   "name": "python3"
  },
  "language_info": {
   "codemirror_mode": {
    "name": "ipython",
    "version": 3
   },
   "file_extension": ".py",
   "mimetype": "text/x-python",
   "name": "python",
   "nbconvert_exporter": "python",
   "pygments_lexer": "ipython3",
   "version": "3.10.2"
  },
  "orig_nbformat": 4
 },
 "nbformat": 4,
 "nbformat_minor": 2
}
