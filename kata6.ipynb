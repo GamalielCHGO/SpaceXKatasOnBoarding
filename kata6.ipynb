{
 "cells": [
  {
   "cell_type": "markdown",
   "metadata": {},
   "source": [
    "## Ejercicio 1 listas\n"
   ]
  },
  {
   "cell_type": "code",
   "execution_count": 23,
   "metadata": {},
   "outputs": [
    {
     "name": "stdout",
     "output_type": "stream",
     "text": [
      "Numero de planetas en nuestro sistema solar 8\n",
      "El ultimo planeta es: Pluton\n"
     ]
    }
   ],
   "source": [
    "# Creamos la lista planets y la mostramos\n",
    "planets=['Mercurio','Venus','Tierra','Marte','Jupiter','Urano','Neptuno']\n",
    "\n",
    "planets.append('Pluton')\n",
    "\n",
    "print (\"Numero de planetas en nuestro sistema solar \"+str(len (planets)))\n",
    "print(\"El ultimo planeta es: \"+str(planets[-1]))"
   ]
  },
  {
   "cell_type": "markdown",
   "metadata": {},
   "source": [
    "# Ejercicio 2 listas"
   ]
  },
  {
   "cell_type": "code",
   "execution_count": 24,
   "metadata": {},
   "outputs": [
    {
     "name": "stdout",
     "output_type": "stream",
     "text": [
      "Planetas mas cercanos al sol que el seleccionado=  ['Mercury', 'Venus', 'Earth']\n",
      "Planetas mas lejanos al sol que el seleccionado=  ['Jupiter', 'Saturn', 'Neptune']\n"
     ]
    }
   ],
   "source": [
    "# Lista de planetas\n",
    "planets = ['Mercury', 'Venus', 'Earth', 'Mars', 'Jupiter', 'Saturn', 'Neptune']\n",
    "# Solicitamos el nombre de un planeta *Pista:  input()*\n",
    "planet=input(\"introduce el nombre de un planeta en ingles empezando con mayuscula\")\n",
    "# Busca el planeta en la lista\n",
    "posPlaneta= planets.index(planet)\n",
    "# Muestra los planetas más cercanos al sol\n",
    "print (\"Planetas mas cercanos al sol que el seleccionado= \", planets[0:posPlaneta])\n",
    "# Muestra los planetas más lejanos al sol\n",
    "print (\"Planetas mas lejanos al sol que el seleccionado= \", planets[posPlaneta+1:])\n",
    "\n"
   ]
  }
 ],
 "metadata": {
  "interpreter": {
   "hash": "5f2ab836d873eab779380ee3084b4b1df244da822c03bf94fe2c3116055a22e7"
  },
  "kernelspec": {
   "display_name": "Python 3.10.1 64-bit",
   "language": "python",
   "name": "python3"
  },
  "language_info": {
   "codemirror_mode": {
    "name": "ipython",
    "version": 3
   },
   "file_extension": ".py",
   "mimetype": "text/x-python",
   "name": "python",
   "nbconvert_exporter": "python",
   "pygments_lexer": "ipython3",
   "version": "3.10.1"
  },
  "orig_nbformat": 4
 },
 "nbformat": 4,
 "nbformat_minor": 2
}
