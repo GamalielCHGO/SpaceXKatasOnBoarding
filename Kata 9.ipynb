{
 "cells": [
  {
   "cell_type": "markdown",
   "metadata": {},
   "source": [
    "# Ejercicio 1"
   ]
  },
  {
   "cell_type": "code",
   "execution_count": 28,
   "metadata": {},
   "outputs": [
    {
     "name": "stdout",
     "output_type": "stream",
     "text": [
      "promedio de combustible = 78.0\n"
     ]
    }
   ],
   "source": [
    "# Función para leer 3 tanques de combustible y muestre el promedio\n",
    "def combustible(tanque1,tanque2,tanque3):\n",
    "    total=tanque1+tanque2+tanque3\n",
    "    return promedio(total,3)\n",
    "# Función promedio \n",
    "def promedio (total,cantidad):\n",
    "    return total/cantidad\n",
    "\n",
    "# Llamamos a la función que genera el reporte print(funcion(tanque1, tanque2, tanque3))\n",
    "promedio=combustible(88,76,70)\n",
    "print (f\"promedio de combustible = {promedio}\")\n",
    "\n"
   ]
  },
  {
   "cell_type": "markdown",
   "metadata": {},
   "source": [
    "# Ejercicio 2"
   ]
  },
  {
   "cell_type": "code",
   "execution_count": 29,
   "metadata": {},
   "outputs": [
    {
     "name": "stdout",
     "output_type": "stream",
     "text": [
      "Detalle de la mision:\n",
      "    Hora de prelanzamiento: 14\n",
      "    Tiempo de vuelo : 51 hrs\n",
      "    Destino : Moon\n",
      "    Porcentaje de combustible:\n",
      "    Tanque externo: 20000%\n",
      "    Tanque interno: 300000%\n",
      "    \n",
      "None\n",
      "Detalle de la mision:\n",
      "    Tiempo de vuelo : 76 minutos\n",
      "    Destino : Moon\n",
      "    Porcentaje de combustible: 320000\n",
      "    \n",
      "None\n",
      "Detalle de la mision:\n",
      "    Tiempo de vuelo : 76 minutos\n",
      "    Destino : Moon\n",
      "    \n",
      "capacidad en tanque principal : 20000\n",
      "capacidad en tanque secundario : 300000\n",
      "None\n"
     ]
    }
   ],
   "source": [
    "# Función con un informe preciso de la misión. Considera hora de prelanzamiento, tiempo de vuelo, destino, tanque externo y tanque interno\n",
    "def detalleMision(hrPre=\"19:30\",tiempoVuelo=20,destino=\"moon\",tanqueExt=50,tanqueInterno=70):\n",
    "    print (f\"\"\"Detalle de la mision:\n",
    "    Hora de prelanzamiento: {hrPre}\n",
    "    Tiempo de vuelo : {tiempoVuelo} hrs\n",
    "    Destino : {destino}\n",
    "    Porcentaje de combustible:\n",
    "    Tanque externo: {tanqueExt}%\n",
    "    Tanque interno: {tanqueInterno}%\n",
    "    \"\"\")\n",
    "print (detalleMision(\"14\",51,\"Moon\",20000,300000))\n",
    "\n",
    "# Escribe tu nueva función de reporte considerando lo anterior\n",
    "def detalleMisionDetallado(destino=\"moon\",*tiempoVuelo,**tanques):\n",
    "    print (f\"\"\"Detalle de la mision:\n",
    "    Tiempo de vuelo : {sum(tiempoVuelo)} minutos\n",
    "    Destino : {destino}\n",
    "    Porcentaje de combustible: {sum(tanques.values())}\n",
    "    \"\"\")\n",
    "\n",
    "print (detalleMisionDetallado(\"Moon\",10,15,51,principal=20000,secundario=300000))\n",
    "\n",
    "# Escribe tu nueva función\n",
    "def detalleMisionDetallado(destino=\"moon\",*tiempoVuelo,**tanques):\n",
    "    print (f\"\"\"Detalle de la mision:\n",
    "    Tiempo de vuelo : {sum(tiempoVuelo)} minutos\n",
    "    Destino : {destino}\n",
    "    \"\"\")\n",
    "    for nombre,capacidad in tanques.items():\n",
    "        print (f\"\"\"capacidad en tanque {nombre} : {capacidad}\"\"\")\n",
    "\n",
    "print (detalleMisionDetallado(\"Moon\",10,15,51,principal=20000,secundario=300000))\n",
    "\n",
    "\n"
   ]
  }
 ],
 "metadata": {
  "interpreter": {
   "hash": "5f2ab836d873eab779380ee3084b4b1df244da822c03bf94fe2c3116055a22e7"
  },
  "kernelspec": {
   "display_name": "Python 3.10.1 64-bit",
   "language": "python",
   "name": "python3"
  },
  "language_info": {
   "codemirror_mode": {
    "name": "ipython",
    "version": 3
   },
   "file_extension": ".py",
   "mimetype": "text/x-python",
   "name": "python",
   "nbconvert_exporter": "python",
   "pygments_lexer": "ipython3",
   "version": "3.10.1"
  },
  "orig_nbformat": 4
 },
 "nbformat": 4,
 "nbformat_minor": 2
}
