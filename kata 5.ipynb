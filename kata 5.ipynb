{
 "cells": [
  {
   "cell_type": "markdown",
   "metadata": {},
   "source": [
    "## Kata5"
   ]
  },
  {
   "cell_type": "markdown",
   "metadata": {},
   "source": [
    "# Ejercicio 1"
   ]
  },
  {
   "cell_type": "code",
   "execution_count": 9,
   "metadata": {},
   "outputs": [
    {
     "name": "stdout",
     "output_type": "stream",
     "text": [
      "628949330 KM\n",
      "390577534 Mill\n"
     ]
    }
   ],
   "source": [
    "#definiendo varibales\n",
    "jupiter = 778547200 #km\n",
    "tierra = 149597870 #km\n",
    "# Calcular la distancia entre planetas\n",
    "dist=abs(tierra-jupiter)\n",
    "print (str(dist)+\" KM\")\n",
    "distMill=round(abs(dist*0.621))\n",
    "print (str(distMill)+\" Mill\")"
   ]
  },
  {
   "cell_type": "markdown",
   "metadata": {},
   "source": [
    "# Ejercicio 2"
   ]
  },
  {
   "cell_type": "code",
   "execution_count": 10,
   "metadata": {},
   "outputs": [
    {
     "name": "stdout",
     "output_type": "stream",
     "text": [
      "Distancia entre planetas en km20\n",
      "Distancia entre planetas en Millas12.42\n"
     ]
    }
   ],
   "source": [
    "# Almacenar las entradas del usuario\n",
    "#Pista: variable = input(\"¿Cuál es tu nombre?\")\n",
    "planeta1 = int(input(\"Distancia del planeta 1 al sol en km? \"))\n",
    "planeta2 = int(input(\"Distancia del planeta 2 al sol en km? \"))\n",
    "\n",
    "dif=abs(planeta2-planeta1) #km\n",
    "\n",
    "print (\"Distancia entre planetas en km \" + str(dif))\n",
    "\n",
    "print (\"Distancia entre planetas en Millas \" + str(dif*0.621))"
   ]
  }
 ],
 "metadata": {
  "interpreter": {
   "hash": "af50226f0ad69345aebfd6fbc3e3df7347ebf8bf830f92e1ebb36921aae7f78b"
  },
  "kernelspec": {
   "display_name": "Python 3.10.2 64-bit",
   "language": "python",
   "name": "python3"
  },
  "language_info": {
   "codemirror_mode": {
    "name": "ipython",
    "version": 3
   },
   "file_extension": ".py",
   "mimetype": "text/x-python",
   "name": "python",
   "nbconvert_exporter": "python",
   "pygments_lexer": "ipython3",
   "version": "3.10.2"
  },
  "orig_nbformat": 4
 },
 "nbformat": 4,
 "nbformat_minor": 2
}
